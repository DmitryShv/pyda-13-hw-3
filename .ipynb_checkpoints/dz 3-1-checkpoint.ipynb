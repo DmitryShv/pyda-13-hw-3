{
 "cells": [
  {
   "cell_type": "markdown",
   "metadata": {},
   "source": [
    "## Задача 3-1 (лекция \"Введение в типы данных и циклы. Часть 1\")"
   ]
  },
  {
   "cell_type": "markdown",
   "metadata": {},
   "source": [
    "Дана переменная, в которой хранится слово из латинских букв. Напишите код, который выводит на экран:\n",
    "\n",
    "- среднюю букву, если число букв в слове нечетное;\n",
    "- две средних буквы, если число букв четное.\n",
    "\n",
    "Примеры работы программы:\n",
    "\n",
    "1. word = 'test'\n",
    "\n",
    "Результат:\n",
    "es\n",
    "\n",
    "2. word = 'testing'\n",
    "\n",
    "Результат:\n",
    "t"
   ]
  },
  {
   "cell_type": "code",
   "execution_count": 50,
   "metadata": {},
   "outputs": [
    {
     "name": "stdout",
     "output_type": "stream",
     "text": [
      "Введите слово фывап\n",
      "5\n",
      "Так как слово нечетное  5 , то печатаем только одну, центральную букву с индексом 2\n",
      "Результат:  в\n"
     ]
    }
   ],
   "source": [
    "user_input = input('Введите слово ')\n",
    "length = len(user_input)\n",
    "print(length)\n",
    "center1 = 0\n",
    "center2 = 0\n",
    "if length % 2 != 0:\n",
    "    center1 = int(length / 2)\n",
    "    print('Так как слово нечетное ', length, ', то печатаем только одну, центральную букву с индексом', center1)\n",
    "    print('Результат: ', user_input[center1])\n",
    "if length % 2 == 0:\n",
    "    center1 = int(length / 2) - 1\n",
    "    center2 = center1 + 2\n",
    "    print('Так как слово четное ', length, ', то печатаем срез из двух средних букв, помня что это диапазон с', center1, 'по', center2)\n",
    "    print('Результат: ', user_input[center1:center2])"
   ]
  },
  {
   "cell_type": "code",
   "execution_count": 25,
   "metadata": {},
   "outputs": [
    {
     "data": {
      "text/plain": [
       "2"
      ]
     },
     "execution_count": 25,
     "metadata": {},
     "output_type": "execute_result"
    }
   ],
   "source": [
    "int(5 / 2)"
   ]
  },
  {
   "cell_type": "code",
   "execution_count": null,
   "metadata": {},
   "outputs": [],
   "source": []
  }
 ],
 "metadata": {
  "kernelspec": {
   "display_name": "Python 3",
   "language": "python",
   "name": "python3"
  },
  "language_info": {
   "codemirror_mode": {
    "name": "ipython",
    "version": 3
   },
   "file_extension": ".py",
   "mimetype": "text/x-python",
   "name": "python",
   "nbconvert_exporter": "python",
   "pygments_lexer": "ipython3",
   "version": "3.8.3"
  }
 },
 "nbformat": 4,
 "nbformat_minor": 4
}
