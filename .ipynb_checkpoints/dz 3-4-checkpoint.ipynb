{
 "cells": [
  {
   "cell_type": "markdown",
   "metadata": {},
   "source": [
    "## Задача 3-4"
   ]
  },
  {
   "cell_type": "markdown",
   "metadata": {},
   "source": [
    "У нас есть список, содержащий информацию о среднедневной температуре в Фаренгейтах за произвольный период по странам (структура данных в примере). Необходимо написать код, который рассчитает среднюю температуру за период в Цельсиях(!) для каждой страны.\n",
    "\n",
    "Пример работы программы:\n",
    "\n",
    "countries_temperature = [[‘Thailand’, [75.2, 77, 78.8, 73.4, 68, 75.2, 77]], [‘Germany’, [57.2, 55.4, 59, 59, 53.6]], [‘Russia’, [35.6, 37.4, 39.2, 41, 42.8, 39.2, 35.6]], [‘Poland’, [50, 50, 53.6, 57.2, 55.4, 55.4]]]\n",
    "\n",
    "Результат:\n",
    "\n",
    "Средняя температура в странах:\n",
    "\n",
    "Thailand - 23.9 С\n",
    "\n",
    "Germany - 13.8 С\n",
    "\n",
    "Russia - 3.7 С\n",
    "\n",
    "Poland - 12.0 С"
   ]
  },
  {
   "cell_type": "code",
   "execution_count": 5,
   "metadata": {},
   "outputs": [
    {
     "name": "stdout",
     "output_type": "stream",
     "text": [
      "Переработанное задание. Вариант через for\n",
      "Средняя температура в странах:\n",
      "Thailand  - 23.9 С\n",
      "Germany  - 13.8 С\n",
      "Russia  - 3.7 С\n",
      "Poland  - 12.0 С\n",
      "\n",
      "Изначальный вариант. Выведение схожи, но код не оптимален\n",
      "Средняя температура в странах:\n",
      "Thailand  - 23.9 С\n",
      "Germany  - 13.8 С\n",
      "Russia  - 3.7 С\n",
      "Poland  - 12.0 С\n"
     ]
    }
   ],
   "source": [
    "countries_temperature = [\n",
    "    ['Thailand', [75.2, 77, 78.8, 73.4, 68, 75.2, 77]], \n",
    "    ['Germany', [57.2, 55.4, 59, 59, 53.6]], \n",
    "    ['Russia', [35.6, 37.4, 39.2, 41, 42.8, 39.2, 35.6]], \n",
    "    ['Poland', [50, 50, 53.6, 57.2, 55.4, 55.4]]\n",
    "]\n",
    "\n",
    "# доработал задание. Ниже все через цикл for\n",
    "print('Переработанное задание. Вариант через for')\n",
    "print('Средняя температура в странах:')\n",
    "text = \" - {:.1f} С\"\n",
    "for i, temp in countries_temperature:\n",
    "    print(i, text.format(5 / 9 * ((sum(temp) / len(temp)) - 32)))\n",
    "\n",
    "# Ниже первоначальный вариант выполнения задания.\n",
    "\n",
    "thai, germ, russ, pol = countries_temperature # разбираю список по странам\n",
    "name_thai, temp_thai_far = thai # отделяю имя от данных по температуре\n",
    "name_germ, temp_germ_far = germ\n",
    "name_russ, temp_russ_far = russ\n",
    "name_pol, temp_pol_far = pol\n",
    "\n",
    "mid_temp_thai = 5 / 9 * (sum(temp_thai_far) / len(temp_thai_far) - 32) # считаю среднюю температуру и перевожу в С\n",
    "mid_temp_germ = 5 / 9 * (sum(temp_germ_far) / len(temp_germ_far) - 32)\n",
    "mid_temp_russ = 5 / 9 * (sum(temp_russ_far) / len(temp_russ_far) - 32)\n",
    "mid_temp_pol = 5 / 9 * (sum(temp_pol_far) / len(temp_pol_far) - 32)\n",
    "# print(name_thai, temp_thai_far)\n",
    "# print(mid_temp_thai)\n",
    "text = \" - {:.1f} С\" # создаю формат для вывода температуры до 1 знака после запятой\n",
    "print('')\n",
    "print('Изначальный вариант. Выведение схожи, но код не оптимален')\n",
    "print('Средняя температура в странах:')\n",
    "print(name_thai, text.format(mid_temp_thai))\n",
    "print(name_germ, text.format(mid_temp_germ))\n",
    "print(name_russ, text.format(mid_temp_russ))\n",
    "print(name_pol, text.format(mid_temp_pol))"
   ]
  },
  {
   "cell_type": "code",
   "execution_count": 40,
   "metadata": {},
   "outputs": [],
   "source": [
    "# черновики\n",
    "# t = 5 / 9 * (((75.2 + 77 + 78.8 + 73.4 + 68 + 75.2 + 77) / 7) - 32)\n",
    "# t1 = \"Средняя температура {:.1f} С\"\n",
    "# print(t1.format(t))"
   ]
  },
  {
   "cell_type": "code",
   "execution_count": 39,
   "metadata": {},
   "outputs": [],
   "source": [
    "# txt = \"You scored {:.1f}\"\n",
    "# print(txt.format(0.25))"
   ]
  }
 ],
 "metadata": {
  "kernelspec": {
   "display_name": "Python 3",
   "language": "python",
   "name": "python3"
  },
  "language_info": {
   "codemirror_mode": {
    "name": "ipython",
    "version": 3
   },
   "file_extension": ".py",
   "mimetype": "text/x-python",
   "name": "python",
   "nbconvert_exporter": "python",
   "pygments_lexer": "ipython3",
   "version": "3.8.3"
  }
 },
 "nbformat": 4,
 "nbformat_minor": 4
}
