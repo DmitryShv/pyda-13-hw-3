{
 "cells": [
  {
   "cell_type": "markdown",
   "metadata": {},
   "source": [
    "## Задача 3-2 (лекция \"Введение в типы данных и циклы. Часть 1\")"
   ]
  },
  {
   "cell_type": "markdown",
   "metadata": {},
   "source": [
    "Напишите программу, которая последовательно запрашивает у пользователя числа (по одному за раз) и после первого нуля выводит сумму всех ранее введенных чисел.\n",
    "\n",
    "Примеры работы программы:\n",
    "\n",
    "1. Введите число:  \n",
    "1\n",
    "\n",
    "    Введите число:  \n",
    "    4\n",
    "\n",
    "    Введите число:  \n",
    "    6\n",
    "\n",
    "    Введите число:  \n",
    "    0\n",
    "    \n",
    "    Результат:\n",
    "    11\n",
    "\n",
    "\n",
    "2. Введите число:  \n",
    "    \n",
    "    0\n",
    "    \n",
    "    Результат:\n",
    "    0"
   ]
  },
  {
   "cell_type": "code",
   "execution_count": 9,
   "metadata": {},
   "outputs": [
    {
     "name": "stdout",
     "output_type": "stream",
     "text": [
      "Введите число 3\n",
      "Введите число 4\n",
      "Введите число 55\n",
      "Введите число 3\n",
      "Введите число 0\n",
      "Результат:  65\n"
     ]
    }
   ],
   "source": [
    "itog = 0\n",
    "while True:\n",
    "    x = int(input('Введите число '))\n",
    "    itog += x\n",
    "    if x == 0:\n",
    "        break\n",
    "print('Результат: ', itog)\n"
   ]
  },
  {
   "cell_type": "code",
   "execution_count": null,
   "metadata": {},
   "outputs": [],
   "source": []
  }
 ],
 "metadata": {
  "kernelspec": {
   "display_name": "Python 3",
   "language": "python",
   "name": "python3"
  },
  "language_info": {
   "codemirror_mode": {
    "name": "ipython",
    "version": 3
   },
   "file_extension": ".py",
   "mimetype": "text/x-python",
   "name": "python",
   "nbconvert_exporter": "python",
   "pygments_lexer": "ipython3",
   "version": "3.8.3"
  }
 },
 "nbformat": 4,
 "nbformat_minor": 4
}
